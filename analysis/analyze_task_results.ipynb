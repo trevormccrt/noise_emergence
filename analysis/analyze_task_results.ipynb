{
 "cells": [
  {
   "cell_type": "code",
   "execution_count": 1,
   "outputs": [
    {
     "name": "stdout",
     "output_type": "stream",
     "text": [
      "\n"
     ]
    }
   ],
   "source": [
    "import cupy as cp\n",
    "import matplotlib.pyplot as plt\n",
    "import numpy as np\n",
    "import networkx as nx\n",
    "import os\n",
    "import sys\n",
    "sys.path.append(\"../\")\n",
    "import analysis_util, tasks, general_network_visualization"
   ],
   "metadata": {
    "collapsed": false
   }
  },
  {
   "cell_type": "markdown",
   "source": [
    "AND experiment"
   ],
   "metadata": {
    "collapsed": false
   }
  },
  {
   "cell_type": "code",
   "execution_count": 26,
   "outputs": [],
   "source": [
    "data_path = \"boolean_network_data/and_evolution_results/2023-03-13-21-10-14\"\n",
    "f_input_state = tasks.make_2_bit_input_state\n",
    "f_eval = tasks.evaluate_and_task\n",
    "input_nodes = [0, 1]\n",
    "output_nodes = [2]"
   ],
   "metadata": {
    "collapsed": false
   }
  },
  {
   "cell_type": "markdown",
   "source": [
    "XOR experiment"
   ],
   "metadata": {
    "collapsed": false
   }
  },
  {
   "cell_type": "code",
   "execution_count": 27,
   "outputs": [],
   "source": [
    "data_path = \"boolean_network_data/xor_evolution_results/2023-03-13-21-10-20\"\n",
    "f_input_state = tasks.make_2_bit_input_state\n",
    "f_eval = tasks.evaluate_xor_task\n",
    "input_nodes = [0, 1]\n",
    "output_nodes = [2]"
   ],
   "metadata": {
    "collapsed": false
   }
  },
  {
   "cell_type": "markdown",
   "source": [
    "Shared AND experiment"
   ],
   "metadata": {
    "collapsed": false
   }
  },
  {
   "cell_type": "code",
   "execution_count": 89,
   "outputs": [],
   "source": [
    "data_path = \"boolean_network_data/shared_and_evolution_results/2023-02-19-16-10-56\"\n",
    "f_input_state = tasks.make_3_bit_input_state\n",
    "f_eval = tasks.evaluate_shared_and_task\n",
    "input_nodes = [0, 1, 2]\n",
    "output_nodes = [3, 4]"
   ],
   "metadata": {
    "collapsed": false
   }
  },
  {
   "cell_type": "markdown",
   "source": [
    "Sequential AND experiment"
   ],
   "metadata": {
    "collapsed": false
   }
  },
  {
   "cell_type": "code",
   "execution_count": 36,
   "outputs": [],
   "source": [
    "data_path = \"boolean_network_data/sequential_and_evolution_results/2023-02-18-14-33-48/\"\n",
    "f_input_state = tasks.make_3_bit_input_state\n",
    "f_eval = tasks.evaluate_sequential_and_task\n",
    "input_nodes = [0, 1, 2]\n",
    "output_nodes = [3, 4]"
   ],
   "metadata": {
    "collapsed": false
   }
  },
  {
   "cell_type": "markdown",
   "source": [
    "Parralel AND experiment"
   ],
   "metadata": {
    "collapsed": false
   }
  },
  {
   "cell_type": "code",
   "execution_count": 99,
   "outputs": [],
   "source": [
    "data_path = \"boolean_network_data/parralel_and_evolution_results/converted_2023-03-22-18-16-14/\"\n",
    "f_input_state = tasks.make_4_bit_input_state\n",
    "f_eval = tasks.evaluate_pnand_task\n",
    "input_nodes = [0, 1, 2, 3]\n",
    "output_nodes = [4, 5]"
   ],
   "metadata": {
    "collapsed": false
   }
  },
  {
   "cell_type": "markdown",
   "source": [
    "Parralel AND experiment (no noise)"
   ],
   "metadata": {
    "collapsed": false
   }
  },
  {
   "cell_type": "code",
   "execution_count": 91,
   "outputs": [],
   "source": [
    "data_path = \"boolean_network_data/parralel_and_evolution_results/no_noise_2023-02-21-14-25-46/\"\n",
    "f_input_state = tasks.make_4_bit_input_state\n",
    "f_eval = tasks.evaluate_pnand_task\n",
    "input_nodes = [0, 1, 2, 3]\n",
    "output_nodes = [4, 5]"
   ],
   "metadata": {
    "collapsed": false
   }
  },
  {
   "cell_type": "code",
   "execution_count": 100,
   "outputs": [],
   "source": [
    "data = np.load(os.path.join(os.getenv(\"DATA_DIR\"), data_path, \"batch_1.npz\"))"
   ],
   "metadata": {
    "collapsed": false
   }
  },
  {
   "cell_type": "code",
   "execution_count": 101,
   "outputs": [],
   "source": [
    "N = data[\"N\"]\n",
    "input_state = cp.asnumpy(f_input_state(N))\n",
    "best_functions = np.expand_dims(data[\"functions\"], 1)\n",
    "best_conn = np.expand_dims(data[\"connectivity\"], 1)\n",
    "best_used_conn = np.expand_dims(data[\"used_connectivity\"], 1)\n",
    "batched_input_state = np.broadcast_to(np.expand_dims(np.expand_dims(input_state, 1), 1), (input_state.shape[0], np.shape(best_functions)[0], 1, N)).astype(np.bool_)"
   ],
   "metadata": {
    "collapsed": false
   }
  },
  {
   "cell_type": "code",
   "execution_count": 102,
   "outputs": [],
   "source": [
    "best_functions, best_conn, best_used_conn, sorted_perfs, _ =  analysis_util.sort_by_performance(cp.array(batched_input_state), cp.array(best_functions), cp.array(best_conn), cp.array(best_used_conn), f_eval, n_trajectories=int(10000/input_state.shape[0]))"
   ],
   "metadata": {
    "collapsed": false
   }
  },
  {
   "cell_type": "code",
   "execution_count": 103,
   "outputs": [
    {
     "data": {
      "text/plain": "[None,\n None,\n None,\n None,\n None,\n None,\n None,\n None,\n None,\n None,\n None,\n None,\n None,\n None,\n None,\n None,\n None,\n None,\n None,\n None,\n None,\n None,\n None,\n None,\n None,\n None,\n None,\n None,\n None,\n None,\n None,\n None,\n None,\n None,\n None,\n None,\n None,\n None,\n None,\n None]"
     },
     "execution_count": 103,
     "metadata": {},
     "output_type": "execute_result"
    }
   ],
   "source": [
    "graphs = [general_network_visualization.influence_graph_from_ragged_spec(f[0, :, :], c[0, :, :], uc[0, :, :]) for f, c, uc in zip(cp.asnumpy(best_functions), cp.asnumpy(best_conn), cp.asnumpy(best_used_conn))]\n",
    "[g.remove_nodes_from(list(nx.isolates(g))) for g in graphs]\n",
    "[general_network_visualization.prune_non_participating(g, input_nodes + output_nodes) for  g in graphs]"
   ],
   "metadata": {
    "collapsed": false
   }
  },
  {
   "cell_type": "code",
   "execution_count": 108,
   "outputs": [],
   "source": [
    "%matplotlib tk\n",
    "best_to_plot = 20\n",
    "to_plot = graphs[:best_to_plot]\n",
    "fig, axs = plt.subplots(ncols=len(to_plot), figsize=(12,5))\n",
    "node_colors = [\"C0\"] * int(N)\n",
    "\n",
    "for x in input_nodes:\n",
    "    node_colors[x] = \"C1\"\n",
    "for x in output_nodes:\n",
    "    node_colors[x] = \"C2\"\n",
    "\n",
    "positions = []\n",
    "for i, (g, ax, err) in enumerate(zip(graphs, axs, sorted_perfs[:best_to_plot])):\n",
    "    pos = nx.spring_layout(g, iterations=40)\n",
    "    positions.append(pos)\n",
    "    colorbar = True if i==best_to_plot-1 else False\n",
    "    general_network_visualization.plot_network_directed(g, pos, ax, node_colors[:len(g.nodes)], colorbar=colorbar)\n",
    "fig.tight_layout()"
   ],
   "metadata": {
    "collapsed": false
   }
  },
  {
   "cell_type": "code",
   "execution_count": 48,
   "outputs": [],
   "source": [
    "example_trajs, example_noise = analysis_util.run_dynamics_forward_save_state(cp.array(batched_input_state), best_functions, best_conn, best_used_conn, 7, 0.05)\n",
    "example_trajs = np.squeeze(example_trajs, -2)\n",
    "example_noise = np.squeeze(example_noise, -2)\n",
    "example_trajs = cp.asnumpy(example_trajs)\n",
    "example_noise = cp.asnumpy(example_noise)"
   ],
   "metadata": {
    "collapsed": false
   }
  },
  {
   "cell_type": "code",
   "execution_count": 49,
   "outputs": [],
   "source": [
    "fig, axs = plt.subplots(nrows=example_trajs.shape[1], ncols=best_to_plot, figsize=(15, 10))\n",
    "for i in range(best_to_plot):\n",
    "    for j in range(example_trajs.shape[1]):\n",
    "        axs[j, i].pcolor(example_trajs[:, j, i, :], cmap=\"Greys\", linewidth=0.3, edgecolors=\"black\")\n",
    "fig.tight_layout()"
   ],
   "metadata": {
    "collapsed": false
   }
  },
  {
   "cell_type": "code",
   "execution_count": null,
   "outputs": [],
   "source": [],
   "metadata": {
    "collapsed": false
   }
  },
  {
   "cell_type": "code",
   "execution_count": 44,
   "outputs": [
    {
     "data": {
      "text/plain": "Text(0, 0.5, 'Time')"
     },
     "execution_count": 44,
     "metadata": {},
     "output_type": "execute_result"
    }
   ],
   "source": [
    "%matplotlib tk\n",
    "traj_to_highlight = 0\n",
    "fig, axs = plt.subplots(nrows=2, ncols=example_trajs.shape[1], sharey=True, sharex=True)\n",
    "for j in range(example_trajs.shape[1]):\n",
    "    axs[0, j].pcolor(example_trajs[:, j, 0, :], cmap=\"Greys\", linewidth=0.2, edgecolors=\"black\")\n",
    "    axs[1, j].pcolor(np.pad(example_noise[:, j, 0, :], ((1,1), (0, 0))), cmap=\"Greys\", linewidth=0.2, edgecolors=\"black\")\n",
    "    axs[1, j].set_xlabel(\"Node\")\n",
    "axs[0, 0].set_ylabel(\"Time\")\n",
    "axs[1, 0].set_ylabel(\"Time\")"
   ],
   "metadata": {
    "collapsed": false
   }
  },
  {
   "cell_type": "code",
   "execution_count": 68,
   "outputs": [],
   "source": [
    "physical_error_rates = np.linspace(start=0, stop=0.01, num=20)\n",
    "logical_error_rates = analysis_util.generate_ft_curve(physical_error_rates, cp.array(batched_input_state), cp.array(best_functions), cp.array(best_conn), cp.array(best_used_conn), f_eval, n_traj=5000)\n",
    "logical_error_rates = cp.asnumpy(logical_error_rates)"
   ],
   "metadata": {
    "collapsed": false
   }
  },
  {
   "cell_type": "code",
   "execution_count": 53,
   "outputs": [
    {
     "data": {
      "text/plain": "<matplotlib.legend.Legend at 0x7f96f7c9aaf0>"
     },
     "execution_count": 53,
     "metadata": {},
     "output_type": "execute_result"
    },
    {
     "data": {
      "text/plain": "<Figure size 640x480 with 1 Axes>",
      "image/png": "[encoded data removed]"
     },
     "metadata": {},
     "output_type": "display_data"
    }
   ],
   "source": [
    "fig, axs = plt.subplots()\n",
    "logical_error_rates = np.array(logical_error_rates)\n",
    "for j in range(best_to_plot):\n",
    "    axs.plot(physical_error_rates, logical_error_rates[:, j], label=\"{}\".format(j))\n",
    "axs.set_xlabel(\"Physical Error Rate\")\n",
    "axs.set_ylabel(\"Logical Error Rate\")\n",
    "axs.legend()\n"
   ],
   "metadata": {
    "collapsed": false
   }
  },
  {
   "cell_type": "code",
   "execution_count": 11,
   "outputs": [],
   "source": [
    "to_plot = 0\n",
    "active_nodes = graphs[to_plot].nodes\n",
    "possible_codewords = cp.asnumpy(example_trajs[-1, :, to_plot, active_nodes])\n",
    "codewords = []\n",
    "for codeword in possible_codewords.T:\n",
    "    if not np.any([np.all(codeword == x) for x in codewords]):\n",
    "        codewords.append(codeword)\n",
    "codewords = np.stack(codewords)\n"
   ],
   "metadata": {
    "collapsed": false
   }
  },
  {
   "cell_type": "code",
   "execution_count": 12,
   "outputs": [],
   "source": [
    "%matplotlib tk\n",
    "import importlib\n",
    "importlib.reload(general_network_visualization)\n",
    "fig, axs = plt.subplots(nrows=1, ncols=codewords.shape[0], figsize=(6,3))\n",
    "for codeword, ax in zip(codewords, axs):\n",
    "    general_network_visualization.plot_graph_with_state(graphs[to_plot], positions[to_plot], codeword, ax, [\"yellow\", \"purple\"], node_size=60)\n"
   ],
   "metadata": {
    "collapsed": false
   }
  },
  {
   "cell_type": "code",
   "execution_count": 17,
   "outputs": [
    {
     "data": {
      "text/plain": "array([[1, 3, 3, 3, 4, 4, 4, 6, 6, 6, 6, 6, 6]], dtype=uint8)"
     },
     "execution_count": 17,
     "metadata": {},
     "output_type": "execute_result"
    }
   ],
   "source": [
    "np.sort(np.packbits(codewords, axis=0,bitorder=\"little\"))\n"
   ],
   "metadata": {
    "collapsed": false
   }
  }
 ],
 "metadata": {
  "kernelspec": {
   "display_name": "Python 3",
   "language": "python",
   "name": "python3"
  },
  "language_info": {
   "codemirror_mode": {
    "name": "ipython",
    "version": 2
   },
   "file_extension": ".py",
   "mimetype": "text/x-python",
   "name": "python",
   "nbconvert_exporter": "python",
   "pygments_lexer": "ipython2",
   "version": "2.7.6"
  }
 },
 "nbformat": 4,
 "nbformat_minor": 0
}
