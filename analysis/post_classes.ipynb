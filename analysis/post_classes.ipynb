{
 "cells": [
  {
   "cell_type": "code",
   "execution_count": 12,
   "outputs": [],
   "source": [
    "from gpuaffman_networks import binary_core\n",
    "import matplotlib.pyplot as plt\n",
    "import numpy as np\n",
    "import os\n",
    "import sys\n",
    "\n",
    "sys.path.append(\"../\")\n",
    "import tasks, ragged_task_evolution"
   ],
   "metadata": {
    "collapsed": false
   }
  },
  {
   "cell_type": "code",
   "execution_count": 2,
   "outputs": [],
   "source": [
    "input_states = tasks.make_2_bit_input_state(8)"
   ],
   "metadata": {
    "collapsed": false
   }
  },
  {
   "cell_type": "code",
   "execution_count": 7,
   "outputs": [],
   "source": [
    "data_dir_noise = \"boolean_network_data/and_evolution_results/2023-03-13-21-10-14\"\n",
    "data_noise = np.load(os.path.join(os.getenv(\"DATA_DIR\"), data_dir_noise, \"batch_1.npz\"))\n",
    "use_best = 50\n",
    "sorted_order = np.argsort(data_noise[\"errors\"])\n",
    "best_functions = data_noise[\"functions\"][sorted_order][:use_best]\n",
    "best_connectivity = data_noise[\"connectivity\"][sorted_order][:use_best]\n",
    "best_used_connectivity = data_noise[\"used_connectivity\"][sorted_order][:use_best]\n",
    "n_batched_input_state = np.broadcast_to(np.expand_dims(np.expand_dims(input_states, 1), 1), (input_states.shape[0], best_functions.shape[0], 1, input_states.shape[-1]))\n",
    "errors_n = ragged_task_evolution.evaluate_populations(n_batched_input_state, 1, np.expand_dims(best_functions, 1), np.expand_dims(best_connectivity, 1), np.expand_dims(best_used_connectivity, 1), 10, 0, tasks.evaluate_and_task)\n",
    "zero_idx = np.where(np.squeeze(errors_n) == 0)\n",
    "perfs_n = np.squeeze(zero_idx)\n",
    "best_functions = best_functions[perfs_n]\n",
    "best_connectivity = best_connectivity[perfs_n]\n",
    "best_used_connectivity = best_used_connectivity[perfs_n]\n"
   ],
   "metadata": {
    "collapsed": false
   }
  },
  {
   "cell_type": "code",
   "execution_count": 8,
   "outputs": [],
   "source": [
    "data_dir_no_noise = \"boolean_network_data/and_evolution_results/no_noise_2023-03-13-20-40-28\"\n",
    "data_no_noise = np.load(os.path.join(os.getenv(\"DATA_DIR\"), data_dir_no_noise, \"batch_1.npz\"))\n",
    "nn_best_functions = data_no_noise[\"functions\"]\n",
    "nn_best_connectivity = data_no_noise[\"connectivity\"]\n",
    "nn_best_used_connectivity = data_no_noise[\"used_connectivity\"]\n",
    "nn_batched_input_state = np.broadcast_to(np.expand_dims(np.expand_dims(input_states, 1), 1), (input_states.shape[0], nn_best_functions.shape[0], 1, input_states.shape[-1]))\n",
    "errors_nn = ragged_task_evolution.evaluate_populations(nn_batched_input_state, 1, np.expand_dims(nn_best_functions, 1), np.expand_dims(nn_best_connectivity, 1), np.expand_dims(nn_best_used_connectivity, 1), 10, 0, tasks.evaluate_and_task)\n",
    "zero_idx = np.where(np.squeeze(errors_nn) == 0)\n",
    "perfs_nn = np.squeeze(zero_idx)\n",
    "nn_best_functions = nn_best_functions[perfs_nn]\n",
    "nn_best_connectivity = nn_best_connectivity[perfs_nn]\n",
    "nn_best_used_connectivity = nn_best_used_connectivity[perfs_nn]"
   ],
   "metadata": {
    "collapsed": false
   }
  },
  {
   "cell_type": "code",
   "execution_count": 39,
   "outputs": [],
   "source": [
    "def used_function_ind(used_connectivity):\n",
    "    n_bits = np.shape(used_connectivity)[-1]\n",
    "    return np.einsum(\"kj, j, ...j -> ...k\", binary_core.truth_table_inputs(n_bits), np.array([1<<x for x in range(n_bits)]), used_connectivity)\n",
    "\n",
    "def trim_function(function, used_connectivity):\n",
    "    inds_to_use = list(set(used_function_ind(used_connectivity)))\n",
    "    return np.array(inds_to_use), function[inds_to_use]\n",
    "\n",
    "def check_a2(inds, func):\n",
    "    is_one_inds = np.squeeze(np.argwhere(func), -1)\n",
    "    is_one_inputs = inds[is_one_inds]\n",
    "    for i in range(len(is_one_inputs)):\n",
    "        current = is_one_inputs[i]\n",
    "        other = np.concatenate([is_one_inputs[:i], is_one_inputs[i+1:]])\n",
    "        matches = np.bitwise_and(current, other)\n",
    "        if not np.count_nonzero(matches) == len(matches):\n",
    "            return False\n",
    "    return True\n",
    "\n",
    "\n",
    "def count_a2(all_used_conn, all_functions):\n",
    "    all_a2 = []\n",
    "    for used_conn_batch, function_batch in zip(all_used_conn, all_functions):\n",
    "        this_a2 = []\n",
    "        for used_conn, function in zip(used_conn_batch, function_batch):\n",
    "            trim_inds, trim_f = trim_function(function, used_conn)\n",
    "            this_a2.append(check_a2(trim_inds, trim_f))\n",
    "        all_a2.append(this_a2)\n",
    "    all_a2 = np.array(all_a2)\n",
    "    return  np.sum(all_a2, axis=-1)\n",
    "\n",
    "n_a2_noise = count_a2(best_used_connectivity, best_functions)/8\n",
    "n_a2_nn = count_a2(nn_best_used_connectivity, nn_best_functions)/8\n",
    "\n",
    "noise_p = np.mean(best_functions)\n",
    "random_functions = np.random.binomial(1, noise_p, (200, 8, 8)).astype(np.bool_)\n",
    "random_used_conn = np.ones((200, 8, 3)).astype(np.bool_)\n",
    "n_a2_random = count_a2(random_used_conn, random_functions)/8"
   ],
   "metadata": {
    "collapsed": false
   }
  },
  {
   "cell_type": "code",
   "execution_count": 42,
   "outputs": [
    {
     "data": {
      "text/plain": "<matplotlib.legend.Legend at 0x7f0b97d78640>"
     },
     "execution_count": 42,
     "metadata": {},
     "output_type": "execute_result"
    }
   ],
   "source": [
    "%matplotlib tk\n",
    "def make_cdf(x):\n",
    "    return sorted(x), np.arange(len(x)) / len(x)\n",
    "\n",
    "noise_cdf_x, noise_cdf_p = make_cdf(n_a2_noise)\n",
    "nn_cdf_x, nn_cdf_p = make_cdf(n_a2_nn)\n",
    "random_cdf_x, random_cdf_p = make_cdf(n_a2_random)\n",
    "\n",
    "fig, axs = plt.subplots()\n",
    "axs.plot(noise_cdf_x, noise_cdf_p, label=\"Noisy AND\")\n",
    "axs.plot(nn_cdf_x, nn_cdf_p, label=\"Noiseless AND\")\n",
    "axs.plot(random_cdf_x, random_cdf_p, label=\"Random, same p\")\n",
    "axs.set_xlabel(r\"fraction of $A^2$ functions within a network\")\n",
    "axs.set_ylabel(\"cumulative probability over all populations\")\n",
    "axs.set_ylim([0, 1])\n",
    "axs.legend()\n",
    "\n"
   ],
   "metadata": {
    "collapsed": false
   }
  },
  {
   "cell_type": "code",
   "execution_count": 35,
   "outputs": [
    {
     "data": {
      "text/plain": "True"
     },
     "execution_count": 35,
     "metadata": {},
     "output_type": "execute_result"
    }
   ],
   "source": [
    "maj = [0, 0, 0, 1, 0, 1, 1, 1]\n",
    "inds = np.arange(start=0, stop=len(maj), step=1)\n",
    "check_a2(inds, maj)\n"
   ],
   "metadata": {
    "collapsed": false
   }
  },
  {
   "cell_type": "code",
   "execution_count": 36,
   "outputs": [
    {
     "data": {
      "text/plain": "False"
     },
     "execution_count": 36,
     "metadata": {},
     "output_type": "execute_result"
    }
   ],
   "source": [
    "nonmaj = [1, 0, 0, 1, 0, 1, 1, 1]\n",
    "check_a2(inds, nonmaj)\n"
   ],
   "metadata": {
    "collapsed": false
   }
  },
  {
   "cell_type": "code",
   "execution_count": null,
   "outputs": [],
   "source": [],
   "metadata": {
    "collapsed": false
   }
  }
 ],
 "metadata": {
  "kernelspec": {
   "display_name": "Python 3",
   "language": "python",
   "name": "python3"
  },
  "language_info": {
   "codemirror_mode": {
    "name": "ipython",
    "version": 2
   },
   "file_extension": ".py",
   "mimetype": "text/x-python",
   "name": "python",
   "nbconvert_exporter": "python",
   "pygments_lexer": "ipython2",
   "version": "2.7.6"
  }
 },
 "nbformat": 4,
 "nbformat_minor": 0
}
