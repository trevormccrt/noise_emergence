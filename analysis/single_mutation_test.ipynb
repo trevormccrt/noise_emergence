{
 "cells": [
  {
   "cell_type": "code",
   "execution_count": 1,
   "metadata": {
    "collapsed": true
   },
   "outputs": [
    {
     "name": "stdout",
     "output_type": "stream",
     "text": [
      "\n"
     ]
    }
   ],
   "source": [
    "import matplotlib.pyplot as plt\n",
    "import numpy as np\n",
    "import os\n",
    "import sys\n",
    "\n",
    "sys.path.append(\"../\")\n",
    "import tasks, ragged_task_evolution"
   ]
  },
  {
   "cell_type": "code",
   "execution_count": 3,
   "outputs": [],
   "source": [
    "input_states = tasks.make_2_bit_input_state(8)"
   ],
   "metadata": {
    "collapsed": false
   }
  },
  {
   "cell_type": "code",
   "execution_count": 4,
   "outputs": [],
   "source": [
    "data_dir_no_noise = \"boolean_network_data/and_evolution_results/no_noise_2023-03-13-20-40-28\"\n",
    "data_no_noise = np.load(os.path.join(os.getenv(\"DATA_DIR\"), data_dir_no_noise, \"batch_1.npz\"))\n",
    "nn_best_functions = data_no_noise[\"functions\"]\n",
    "nn_best_connectivity = data_no_noise[\"connectivity\"]\n",
    "nn_best_used_connectivity = data_no_noise[\"used_connectivity\"]\n",
    "nn_batched_input_state = np.broadcast_to(np.expand_dims(np.expand_dims(input_states, 1), 1), (input_states.shape[0], nn_best_functions.shape[0], 1, input_states.shape[-1]))\n",
    "errors_nn = ragged_task_evolution.evaluate_populations(nn_batched_input_state, 1, np.expand_dims(nn_best_functions, 1), np.expand_dims(nn_best_connectivity, 1), np.expand_dims(nn_best_used_connectivity, 1), 10, 0, tasks.evaluate_and_task)\n",
    "zero_idx = np.where(np.squeeze(errors_nn) == 0)\n",
    "perfs_nn = np.squeeze(zero_idx)\n",
    "nn_best_functions = nn_best_functions[perfs_nn]\n",
    "nn_best_connectivity = nn_best_connectivity[perfs_nn]\n",
    "nn_best_used_connectivity = nn_best_used_connectivity[perfs_nn]\n"
   ],
   "metadata": {
    "collapsed": false
   }
  },
  {
   "cell_type": "code",
   "execution_count": 5,
   "outputs": [],
   "source": [
    "data_dir_noise = \"boolean_network_data/and_evolution_results/2023-03-13-21-10-14\"\n",
    "data_noise = np.load(os.path.join(os.getenv(\"DATA_DIR\"), data_dir_noise, \"batch_1.npz\"))\n",
    "use_best = 20\n",
    "sorted_order = np.argsort(data_noise[\"errors\"])\n",
    "best_functions = data_noise[\"functions\"][sorted_order][:use_best]\n",
    "best_connectivity = data_noise[\"connectivity\"][sorted_order][:use_best]\n",
    "best_used_connectivity = data_noise[\"used_connectivity\"][sorted_order][:use_best]\n",
    "n_batched_input_state = np.broadcast_to(np.expand_dims(np.expand_dims(input_states, 1), 1), (input_states.shape[0], best_functions.shape[0], 1, input_states.shape[-1]))\n",
    "errors_n = ragged_task_evolution.evaluate_populations(n_batched_input_state, 1, np.expand_dims(best_functions, 1), np.expand_dims(best_connectivity, 1), np.expand_dims(best_used_connectivity, 1), 10, 0, tasks.evaluate_and_task)\n",
    "zero_idx = np.where(np.squeeze(errors_n) == 0)\n",
    "perfs_n = np.squeeze(zero_idx)\n",
    "best_functions = best_functions[perfs_n]\n",
    "best_connectivity = best_connectivity[perfs_n]\n",
    "best_used_connectivity = best_used_connectivity[perfs_n]"
   ],
   "metadata": {
    "collapsed": false
   }
  },
  {
   "cell_type": "code",
   "execution_count": 6,
   "outputs": [],
   "source": [
    "\n",
    "N = nn_best_functions.shape[1]"
   ],
   "metadata": {
    "collapsed": false
   }
  },
  {
   "cell_type": "code",
   "execution_count": 7,
   "outputs": [],
   "source": [
    "all_mutations = []\n",
    "for i in range(best_functions.shape[1]):\n",
    "    for j in range(best_functions.shape[2]):\n",
    "        mutation = np.zeros_like(best_functions[0])\n",
    "        mutation[i, j] = True\n",
    "        all_mutations.append(mutation)\n",
    "all_mutations = np.array(all_mutations)"
   ],
   "metadata": {
    "collapsed": false
   }
  },
  {
   "cell_type": "code",
   "execution_count": 8,
   "outputs": [],
   "source": [
    "all_conn_mutations = []\n",
    "for i in range(best_used_connectivity.shape[1]):\n",
    "    for j in range(best_used_connectivity.shape[2]):\n",
    "        mutation = np.zeros_like(best_used_connectivity[0])\n",
    "        mutation[i, j] = True\n",
    "        all_conn_mutations.append(mutation)\n",
    "all_conn_mutations = np.array(all_conn_mutations)"
   ],
   "metadata": {
    "collapsed": false
   }
  },
  {
   "cell_type": "code",
   "execution_count": 9,
   "outputs": [],
   "source": [
    "def eval_function_mutation(input_states, mutations, functions, connectivity, used_connectivity):\n",
    "    mutated_functions = np.bitwise_xor(np.expand_dims(mutations, 1), functions)\n",
    "    connectivity = np.broadcast_to(np.expand_dims(connectivity, 0), (*mutated_functions.shape[:-1], connectivity.shape[-1]))\n",
    "    used_connectivity = np.broadcast_to(np.expand_dims(used_connectivity, 0), (*mutated_functions.shape[:-1], used_connectivity.shape[-1]))\n",
    "    batched_input_states = np.expand_dims(np.expand_dims(input_states, 1), 1)\n",
    "    batched_input_states = np.broadcast_to(batched_input_states, (batched_input_states.shape[0], *connectivity.shape[:-2], batched_input_states.shape[-1]))\n",
    "    perf = ragged_task_evolution.evaluate_populations(batched_input_states, 1, mutated_functions, connectivity, used_connectivity, 10,0, tasks.evaluate_and_task)\n",
    "    return perf\n",
    "\n",
    "perf_no_noise = eval_function_mutation(input_states, all_mutations, nn_best_functions, nn_best_connectivity, nn_best_used_connectivity)\n",
    "perf_noise = eval_function_mutation(input_states, all_mutations, best_functions, best_connectivity, best_used_connectivity)\n",
    "n_lethal_noise = np.count_nonzero(perf_noise, 0)\n",
    "n_lethal_no_noise = np.count_nonzero(perf_no_noise, 0)"
   ],
   "metadata": {
    "collapsed": false
   }
  },
  {
   "cell_type": "code",
   "execution_count": 10,
   "outputs": [],
   "source": [
    "def eval_conn_mutation(input_states, mutations, functions, connectivity, used_connectivity):\n",
    "    mutated_used_conn = np.bitwise_xor(np.expand_dims(mutations, 1), used_connectivity)\n",
    "    connectivity = np.broadcast_to(np.expand_dims(connectivity, 0), (*mutated_used_conn.shape[:-1], connectivity.shape[-1]))\n",
    "    functions = np.broadcast_to(np.expand_dims(functions, 0), (*mutated_used_conn.shape[:-1], functions.shape[-1]))\n",
    "    batched_input_states = np.expand_dims(np.expand_dims(input_states, 1), 1)\n",
    "    batched_input_states = np.broadcast_to(batched_input_states, (batched_input_states.shape[0], *functions.shape[:-2], batched_input_states.shape[-1]))\n",
    "    perf = ragged_task_evolution.evaluate_populations(batched_input_states, 1, functions, connectivity, mutated_used_conn, 10,0, tasks.evaluate_and_task)\n",
    "    return perf\n",
    "\n",
    "perf_c_no_noise = eval_conn_mutation(input_states, all_conn_mutations, nn_best_functions, nn_best_connectivity, nn_best_used_connectivity)\n",
    "perf_c_noise = eval_conn_mutation(input_states, all_conn_mutations, best_functions, best_connectivity, best_used_connectivity)\n",
    "n_lethal_c_noise = np.count_nonzero(perf_c_noise, 0)\n",
    "n_lethal_no_c_noise = np.count_nonzero(perf_c_no_noise, 0)"
   ],
   "metadata": {
    "collapsed": false
   }
  },
  {
   "cell_type": "code",
   "execution_count": 11,
   "outputs": [],
   "source": [
    "def make_cdf(data):\n",
    "    data_sorted = np.sort(data)\n",
    "    p = 1. * np.arange(len(data)) / (len(data) - 1)\n",
    "    return data_sorted, p\n",
    "\n",
    "sorted_lethal_noise, p_lethal_noise = make_cdf(n_lethal_noise)\n",
    "sorted_lethal_nn, p_lethal_nn = make_cdf(n_lethal_no_noise)\n",
    "\n",
    "sorted_lethal_c_noise, p_lethal_c_noise = make_cdf(n_lethal_c_noise)\n",
    "sorted_lethal_no_c_noise, p_lethal_no_c_noise = make_cdf(n_lethal_no_c_noise)"
   ],
   "metadata": {
    "collapsed": false
   }
  },
  {
   "cell_type": "code",
   "execution_count": 12,
   "outputs": [],
   "source": [
    "%matplotlib tk\n",
    "fig, axs = plt.subplots(ncols=1, nrows=2, sharex=True, figsize=(4, 3))\n",
    "\n",
    "lethal_noise_frac = sorted_lethal_noise/np.shape(all_mutations)[0]\n",
    "lethal_nn_frac = sorted_lethal_nn/np.shape(all_mutations)[0]\n",
    "all_frac = np.concatenate([lethal_noise_frac, lethal_nn_frac])\n",
    "\n",
    "axs[0].plot(lethal_noise_frac, p_lethal_noise, color=\"C2\", label=\"Error-Correcting\")\n",
    "axs[0].plot(lethal_nn_frac, p_lethal_nn, color=\"C3\", label=\"Non-Error-Correcting\")\n",
    "axs[0].set_xlim([np.min(all_frac), np.max(all_frac)])\n",
    "axs[0].set_ylim([0, 1])\n",
    "axs[0].legend()\n",
    "\n",
    "lethal_c_noise_frac = sorted_lethal_c_noise/np.shape(all_conn_mutations)[0]\n",
    "lethal_c_nn_frac = sorted_lethal_no_c_noise/np.shape(all_conn_mutations)[0]\n",
    "all_c_frac = np.concatenate([lethal_c_noise_frac, lethal_c_nn_frac])\n",
    "axs[1].plot(lethal_c_noise_frac, p_lethal_c_noise, color=\"C2\")\n",
    "axs[1].plot(lethal_c_nn_frac, p_lethal_no_c_noise, color=\"C3\")\n",
    "axs[1].set_xlim([np.min(all_c_frac), np.max(all_c_frac)])\n",
    "axs[0].set_ylabel(\"Cumulative \\n Prob.\")\n",
    "axs[1].set_ylabel(\"Cumulative \\n  Prob.\")\n",
    "axs[1].set_xlabel(\" Lethal Mutation Fraction\")\n",
    "fig.tight_layout()"
   ],
   "metadata": {
    "collapsed": false
   }
  },
  {
   "cell_type": "code",
   "execution_count": 13,
   "outputs": [],
   "source": [
    "def eval_function_round_survival(input_states, mutations, functions, connectivity, used_connectivity):\n",
    "    if functions.shape[0] > 1000:\n",
    "        ind = np.random.choice(functions.shape[0], 1000)\n",
    "        functions = functions[ind]\n",
    "        connectivity = connectivity[ind]\n",
    "        used_connectivity = used_connectivity[ind]\n",
    "    mutated_functions = np.bitwise_xor(np.expand_dims(mutations, 1), functions)\n",
    "    connectivity = np.broadcast_to(np.expand_dims(connectivity, 0), (*mutated_functions.shape[:-1], connectivity.shape[-1]))\n",
    "    used_connectivity = np.broadcast_to(np.expand_dims(used_connectivity, 0), (*mutated_functions.shape[:-1], used_connectivity.shape[-1]))\n",
    "    batched_input_states = np.expand_dims(np.expand_dims(input_states, 1), 1)\n",
    "    batched_input_states = np.broadcast_to(batched_input_states, (batched_input_states.shape[0], *connectivity.shape[:-2], batched_input_states.shape[-1]))\n",
    "    perf = ragged_task_evolution.evaluate_populations(batched_input_states, 1, mutated_functions, connectivity, used_connectivity, 10,0, tasks.evaluate_and_task)\n",
    "    survived = np.squeeze(np.argwhere(perf.flatten() == 0))\n",
    "    survived_functons = np.reshape(mutated_functions, (-1, *mutated_functions.shape[2:]))[survived]\n",
    "    survived_connectivity = np.reshape(connectivity, (-1, *connectivity.shape[2:]))[survived]\n",
    "    survived_used_connectivity = np.reshape(used_connectivity, (-1, *used_connectivity.shape[2:]))[survived]\n",
    "    return len(survived)/(mutated_functions.shape[0] * mutated_functions.shape[1]), survived_functons, survived_connectivity, survived_used_connectivity\n",
    "\n",
    "rounds_to_test = 5\n",
    "this_functions = nn_best_functions\n",
    "this_connectivity = nn_best_connectivity\n",
    "this_used_connectivity = nn_best_used_connectivity\n",
    "survival_probs = [1]\n",
    "for _ in range(rounds_to_test):\n",
    "    this_survival_prob, this_functions, this_connectivity, this_used_connectivity = eval_function_round_survival(input_states, all_mutations, this_functions, this_connectivity, this_used_connectivity)\n",
    "    survival_probs.append(this_survival_prob)"
   ],
   "metadata": {
    "collapsed": false
   }
  },
  {
   "cell_type": "code",
   "execution_count": 14,
   "outputs": [],
   "source": [
    "this_functions = best_functions\n",
    "this_connectivity = best_connectivity\n",
    "this_used_connectivity = best_used_connectivity\n",
    "noise_survival_probs = [1]\n",
    "for _ in range(rounds_to_test):\n",
    "    this_survival_prob, this_functions, this_connectivity, this_used_connectivity = eval_function_round_survival(input_states, all_mutations, this_functions, this_connectivity, this_used_connectivity)\n",
    "    noise_survival_probs.append(this_survival_prob)\n"
   ],
   "metadata": {
    "collapsed": false
   }
  },
  {
   "cell_type": "code",
   "execution_count": 15,
   "outputs": [],
   "source": [
    "rounds = np.arange(start=0, stop=rounds_to_test+1, step=1)\n",
    "cum_nn_surv_prob = np.cumprod(np.array(survival_probs))\n",
    "cum_noise_surv_prob = np.cumprod(np.array(noise_survival_probs))\n"
   ],
   "metadata": {
    "collapsed": false
   }
  },
  {
   "cell_type": "code",
   "execution_count": 16,
   "outputs": [
    {
     "ename": "FileNotFoundError",
     "evalue": "[Errno 2] No such file or directory: '/home/trevor/boolean_network_data/plots_and_misc_material/cum_mutation_survival.svg'",
     "output_type": "error",
     "traceback": [
      "\u001B[0;31m---------------------------------------------------------------------------\u001B[0m",
      "\u001B[0;31mFileNotFoundError\u001B[0m                         Traceback (most recent call last)",
      "Cell \u001B[0;32mIn[16], line 12\u001B[0m\n\u001B[1;32m      9\u001B[0m axs\u001B[38;5;241m.\u001B[39mset_xlim([\u001B[38;5;241m0\u001B[39m, rounds_to_test])\n\u001B[1;32m     10\u001B[0m axs\u001B[38;5;241m.\u001B[39mset_ylim([\u001B[38;5;241m0\u001B[39m, np\u001B[38;5;241m.\u001B[39mmax(np\u001B[38;5;241m.\u001B[39mconcatenate([noise_death_prob, no_noise_death_prob]))])\n\u001B[0;32m---> 12\u001B[0m \u001B[43mfig\u001B[49m\u001B[38;5;241;43m.\u001B[39;49m\u001B[43msavefig\u001B[49m\u001B[43m(\u001B[49m\u001B[43mos\u001B[49m\u001B[38;5;241;43m.\u001B[39;49m\u001B[43mpath\u001B[49m\u001B[38;5;241;43m.\u001B[39;49m\u001B[43mjoin\u001B[49m\u001B[43m(\u001B[49m\u001B[43mplt_save_dir\u001B[49m\u001B[43m,\u001B[49m\u001B[43m \u001B[49m\u001B[38;5;124;43m\"\u001B[39;49m\u001B[38;5;124;43mcum_mutation_survival.svg\u001B[39;49m\u001B[38;5;124;43m\"\u001B[39;49m\u001B[43m)\u001B[49m\u001B[43m)\u001B[49m\n",
      "File \u001B[0;32m~/brainvenv/lib/python3.8/site-packages/matplotlib/figure.py:3277\u001B[0m, in \u001B[0;36mFigure.savefig\u001B[0;34m(self, fname, transparent, **kwargs)\u001B[0m\n\u001B[1;32m   3273\u001B[0m     \u001B[38;5;28;01mfor\u001B[39;00m ax \u001B[38;5;129;01min\u001B[39;00m \u001B[38;5;28mself\u001B[39m\u001B[38;5;241m.\u001B[39maxes:\n\u001B[1;32m   3274\u001B[0m         stack\u001B[38;5;241m.\u001B[39menter_context(\n\u001B[1;32m   3275\u001B[0m             ax\u001B[38;5;241m.\u001B[39mpatch\u001B[38;5;241m.\u001B[39m_cm_set(facecolor\u001B[38;5;241m=\u001B[39m\u001B[38;5;124m'\u001B[39m\u001B[38;5;124mnone\u001B[39m\u001B[38;5;124m'\u001B[39m, edgecolor\u001B[38;5;241m=\u001B[39m\u001B[38;5;124m'\u001B[39m\u001B[38;5;124mnone\u001B[39m\u001B[38;5;124m'\u001B[39m))\n\u001B[0;32m-> 3277\u001B[0m \u001B[38;5;28;43mself\u001B[39;49m\u001B[38;5;241;43m.\u001B[39;49m\u001B[43mcanvas\u001B[49m\u001B[38;5;241;43m.\u001B[39;49m\u001B[43mprint_figure\u001B[49m\u001B[43m(\u001B[49m\u001B[43mfname\u001B[49m\u001B[43m,\u001B[49m\u001B[43m \u001B[49m\u001B[38;5;241;43m*\u001B[39;49m\u001B[38;5;241;43m*\u001B[39;49m\u001B[43mkwargs\u001B[49m\u001B[43m)\u001B[49m\n",
      "File \u001B[0;32m~/brainvenv/lib/python3.8/site-packages/matplotlib/backend_bases.py:2338\u001B[0m, in \u001B[0;36mFigureCanvasBase.print_figure\u001B[0;34m(self, filename, dpi, facecolor, edgecolor, orientation, format, bbox_inches, pad_inches, bbox_extra_artists, backend, **kwargs)\u001B[0m\n\u001B[1;32m   2334\u001B[0m \u001B[38;5;28;01mtry\u001B[39;00m:\n\u001B[1;32m   2335\u001B[0m     \u001B[38;5;66;03m# _get_renderer may change the figure dpi (as vector formats\u001B[39;00m\n\u001B[1;32m   2336\u001B[0m     \u001B[38;5;66;03m# force the figure dpi to 72), so we need to set it again here.\u001B[39;00m\n\u001B[1;32m   2337\u001B[0m     \u001B[38;5;28;01mwith\u001B[39;00m cbook\u001B[38;5;241m.\u001B[39m_setattr_cm(\u001B[38;5;28mself\u001B[39m\u001B[38;5;241m.\u001B[39mfigure, dpi\u001B[38;5;241m=\u001B[39mdpi):\n\u001B[0;32m-> 2338\u001B[0m         result \u001B[38;5;241m=\u001B[39m \u001B[43mprint_method\u001B[49m\u001B[43m(\u001B[49m\n\u001B[1;32m   2339\u001B[0m \u001B[43m            \u001B[49m\u001B[43mfilename\u001B[49m\u001B[43m,\u001B[49m\n\u001B[1;32m   2340\u001B[0m \u001B[43m            \u001B[49m\u001B[43mfacecolor\u001B[49m\u001B[38;5;241;43m=\u001B[39;49m\u001B[43mfacecolor\u001B[49m\u001B[43m,\u001B[49m\n\u001B[1;32m   2341\u001B[0m \u001B[43m            \u001B[49m\u001B[43medgecolor\u001B[49m\u001B[38;5;241;43m=\u001B[39;49m\u001B[43medgecolor\u001B[49m\u001B[43m,\u001B[49m\n\u001B[1;32m   2342\u001B[0m \u001B[43m            \u001B[49m\u001B[43morientation\u001B[49m\u001B[38;5;241;43m=\u001B[39;49m\u001B[43morientation\u001B[49m\u001B[43m,\u001B[49m\n\u001B[1;32m   2343\u001B[0m \u001B[43m            \u001B[49m\u001B[43mbbox_inches_restore\u001B[49m\u001B[38;5;241;43m=\u001B[39;49m\u001B[43m_bbox_inches_restore\u001B[49m\u001B[43m,\u001B[49m\n\u001B[1;32m   2344\u001B[0m \u001B[43m            \u001B[49m\u001B[38;5;241;43m*\u001B[39;49m\u001B[38;5;241;43m*\u001B[39;49m\u001B[43mkwargs\u001B[49m\u001B[43m)\u001B[49m\n\u001B[1;32m   2345\u001B[0m \u001B[38;5;28;01mfinally\u001B[39;00m:\n\u001B[1;32m   2346\u001B[0m     \u001B[38;5;28;01mif\u001B[39;00m bbox_inches \u001B[38;5;129;01mand\u001B[39;00m restore_bbox:\n",
      "File \u001B[0;32m~/brainvenv/lib/python3.8/site-packages/matplotlib/backend_bases.py:2204\u001B[0m, in \u001B[0;36mFigureCanvasBase._switch_canvas_and_return_print_method.<locals>.<lambda>\u001B[0;34m(*args, **kwargs)\u001B[0m\n\u001B[1;32m   2200\u001B[0m     optional_kws \u001B[38;5;241m=\u001B[39m {  \u001B[38;5;66;03m# Passed by print_figure for other renderers.\u001B[39;00m\n\u001B[1;32m   2201\u001B[0m         \u001B[38;5;124m\"\u001B[39m\u001B[38;5;124mdpi\u001B[39m\u001B[38;5;124m\"\u001B[39m, \u001B[38;5;124m\"\u001B[39m\u001B[38;5;124mfacecolor\u001B[39m\u001B[38;5;124m\"\u001B[39m, \u001B[38;5;124m\"\u001B[39m\u001B[38;5;124medgecolor\u001B[39m\u001B[38;5;124m\"\u001B[39m, \u001B[38;5;124m\"\u001B[39m\u001B[38;5;124morientation\u001B[39m\u001B[38;5;124m\"\u001B[39m,\n\u001B[1;32m   2202\u001B[0m         \u001B[38;5;124m\"\u001B[39m\u001B[38;5;124mbbox_inches_restore\u001B[39m\u001B[38;5;124m\"\u001B[39m}\n\u001B[1;32m   2203\u001B[0m     skip \u001B[38;5;241m=\u001B[39m optional_kws \u001B[38;5;241m-\u001B[39m {\u001B[38;5;241m*\u001B[39minspect\u001B[38;5;241m.\u001B[39msignature(meth)\u001B[38;5;241m.\u001B[39mparameters}\n\u001B[0;32m-> 2204\u001B[0m     print_method \u001B[38;5;241m=\u001B[39m functools\u001B[38;5;241m.\u001B[39mwraps(meth)(\u001B[38;5;28;01mlambda\u001B[39;00m \u001B[38;5;241m*\u001B[39margs, \u001B[38;5;241m*\u001B[39m\u001B[38;5;241m*\u001B[39mkwargs: \u001B[43mmeth\u001B[49m\u001B[43m(\u001B[49m\n\u001B[1;32m   2205\u001B[0m \u001B[43m        \u001B[49m\u001B[38;5;241;43m*\u001B[39;49m\u001B[43margs\u001B[49m\u001B[43m,\u001B[49m\u001B[43m \u001B[49m\u001B[38;5;241;43m*\u001B[39;49m\u001B[38;5;241;43m*\u001B[39;49m\u001B[43m{\u001B[49m\u001B[43mk\u001B[49m\u001B[43m:\u001B[49m\u001B[43m \u001B[49m\u001B[43mv\u001B[49m\u001B[43m \u001B[49m\u001B[38;5;28;43;01mfor\u001B[39;49;00m\u001B[43m \u001B[49m\u001B[43mk\u001B[49m\u001B[43m,\u001B[49m\u001B[43m \u001B[49m\u001B[43mv\u001B[49m\u001B[43m \u001B[49m\u001B[38;5;129;43;01min\u001B[39;49;00m\u001B[43m \u001B[49m\u001B[43mkwargs\u001B[49m\u001B[38;5;241;43m.\u001B[39;49m\u001B[43mitems\u001B[49m\u001B[43m(\u001B[49m\u001B[43m)\u001B[49m\u001B[43m \u001B[49m\u001B[38;5;28;43;01mif\u001B[39;49;00m\u001B[43m \u001B[49m\u001B[43mk\u001B[49m\u001B[43m \u001B[49m\u001B[38;5;129;43;01mnot\u001B[39;49;00m\u001B[43m \u001B[49m\u001B[38;5;129;43;01min\u001B[39;49;00m\u001B[43m \u001B[49m\u001B[43mskip\u001B[49m\u001B[43m}\u001B[49m\u001B[43m)\u001B[49m)\n\u001B[1;32m   2206\u001B[0m \u001B[38;5;28;01melse\u001B[39;00m:  \u001B[38;5;66;03m# Let third-parties do as they see fit.\u001B[39;00m\n\u001B[1;32m   2207\u001B[0m     print_method \u001B[38;5;241m=\u001B[39m meth\n",
      "File \u001B[0;32m~/brainvenv/lib/python3.8/site-packages/matplotlib/_api/deprecation.py:410\u001B[0m, in \u001B[0;36mdelete_parameter.<locals>.wrapper\u001B[0;34m(*inner_args, **inner_kwargs)\u001B[0m\n\u001B[1;32m    400\u001B[0m     deprecation_addendum \u001B[38;5;241m=\u001B[39m (\n\u001B[1;32m    401\u001B[0m         \u001B[38;5;124mf\u001B[39m\u001B[38;5;124m\"\u001B[39m\u001B[38;5;124mIf any parameter follows \u001B[39m\u001B[38;5;132;01m{\u001B[39;00mname\u001B[38;5;132;01m!r}\u001B[39;00m\u001B[38;5;124m, they should be passed as \u001B[39m\u001B[38;5;124m\"\u001B[39m\n\u001B[1;32m    402\u001B[0m         \u001B[38;5;124mf\u001B[39m\u001B[38;5;124m\"\u001B[39m\u001B[38;5;124mkeyword, not positionally.\u001B[39m\u001B[38;5;124m\"\u001B[39m)\n\u001B[1;32m    403\u001B[0m     warn_deprecated(\n\u001B[1;32m    404\u001B[0m         since,\n\u001B[1;32m    405\u001B[0m         name\u001B[38;5;241m=\u001B[39m\u001B[38;5;28mrepr\u001B[39m(name),\n\u001B[0;32m   (...)\u001B[0m\n\u001B[1;32m    408\u001B[0m                  \u001B[38;5;28;01melse\u001B[39;00m deprecation_addendum,\n\u001B[1;32m    409\u001B[0m         \u001B[38;5;241m*\u001B[39m\u001B[38;5;241m*\u001B[39mkwargs)\n\u001B[0;32m--> 410\u001B[0m \u001B[38;5;28;01mreturn\u001B[39;00m \u001B[43mfunc\u001B[49m\u001B[43m(\u001B[49m\u001B[38;5;241;43m*\u001B[39;49m\u001B[43minner_args\u001B[49m\u001B[43m,\u001B[49m\u001B[43m \u001B[49m\u001B[38;5;241;43m*\u001B[39;49m\u001B[38;5;241;43m*\u001B[39;49m\u001B[43minner_kwargs\u001B[49m\u001B[43m)\u001B[49m\n",
      "File \u001B[0;32m~/brainvenv/lib/python3.8/site-packages/matplotlib/backends/backend_svg.py:1389\u001B[0m, in \u001B[0;36mFigureCanvasSVG.print_svg\u001B[0;34m(self, filename, bbox_inches_restore, metadata, *args)\u001B[0m\n\u001B[1;32m   1355\u001B[0m \u001B[38;5;129m@_api\u001B[39m\u001B[38;5;241m.\u001B[39mdelete_parameter(\u001B[38;5;124m\"\u001B[39m\u001B[38;5;124m3.5\u001B[39m\u001B[38;5;124m\"\u001B[39m, \u001B[38;5;124m\"\u001B[39m\u001B[38;5;124margs\u001B[39m\u001B[38;5;124m\"\u001B[39m)\n\u001B[1;32m   1356\u001B[0m \u001B[38;5;28;01mdef\u001B[39;00m \u001B[38;5;21mprint_svg\u001B[39m(\u001B[38;5;28mself\u001B[39m, filename, \u001B[38;5;241m*\u001B[39margs, bbox_inches_restore\u001B[38;5;241m=\u001B[39m\u001B[38;5;28;01mNone\u001B[39;00m,\n\u001B[1;32m   1357\u001B[0m               metadata\u001B[38;5;241m=\u001B[39m\u001B[38;5;28;01mNone\u001B[39;00m):\n\u001B[1;32m   1358\u001B[0m \u001B[38;5;250m    \u001B[39m\u001B[38;5;124;03m\"\"\"\u001B[39;00m\n\u001B[1;32m   1359\u001B[0m \u001B[38;5;124;03m    Parameters\u001B[39;00m\n\u001B[1;32m   1360\u001B[0m \u001B[38;5;124;03m    ----------\u001B[39;00m\n\u001B[0;32m   (...)\u001B[0m\n\u001B[1;32m   1387\u001B[0m \u001B[38;5;124;03m        __ DC_\u001B[39;00m\n\u001B[1;32m   1388\u001B[0m \u001B[38;5;124;03m    \"\"\"\u001B[39;00m\n\u001B[0;32m-> 1389\u001B[0m     \u001B[38;5;28;01mwith\u001B[39;00m \u001B[43mcbook\u001B[49m\u001B[38;5;241;43m.\u001B[39;49m\u001B[43mopen_file_cm\u001B[49m\u001B[43m(\u001B[49m\u001B[43mfilename\u001B[49m\u001B[43m,\u001B[49m\u001B[43m \u001B[49m\u001B[38;5;124;43m\"\u001B[39;49m\u001B[38;5;124;43mw\u001B[39;49m\u001B[38;5;124;43m\"\u001B[39;49m\u001B[43m,\u001B[49m\u001B[43m \u001B[49m\u001B[43mencoding\u001B[49m\u001B[38;5;241;43m=\u001B[39;49m\u001B[38;5;124;43m\"\u001B[39;49m\u001B[38;5;124;43mutf-8\u001B[39;49m\u001B[38;5;124;43m\"\u001B[39;49m\u001B[43m)\u001B[49m \u001B[38;5;28;01mas\u001B[39;00m fh:\n\u001B[1;32m   1390\u001B[0m         \u001B[38;5;28;01mif\u001B[39;00m \u001B[38;5;129;01mnot\u001B[39;00m cbook\u001B[38;5;241m.\u001B[39mfile_requires_unicode(fh):\n\u001B[1;32m   1391\u001B[0m             fh \u001B[38;5;241m=\u001B[39m codecs\u001B[38;5;241m.\u001B[39mgetwriter(\u001B[38;5;124m'\u001B[39m\u001B[38;5;124mutf-8\u001B[39m\u001B[38;5;124m'\u001B[39m)(fh)\n",
      "File \u001B[0;32m~/brainvenv/lib/python3.8/site-packages/matplotlib/cbook/__init__.py:506\u001B[0m, in \u001B[0;36mopen_file_cm\u001B[0;34m(path_or_file, mode, encoding)\u001B[0m\n\u001B[1;32m    504\u001B[0m \u001B[38;5;28;01mdef\u001B[39;00m \u001B[38;5;21mopen_file_cm\u001B[39m(path_or_file, mode\u001B[38;5;241m=\u001B[39m\u001B[38;5;124m\"\u001B[39m\u001B[38;5;124mr\u001B[39m\u001B[38;5;124m\"\u001B[39m, encoding\u001B[38;5;241m=\u001B[39m\u001B[38;5;28;01mNone\u001B[39;00m):\n\u001B[1;32m    505\u001B[0m \u001B[38;5;250m    \u001B[39m\u001B[38;5;124mr\u001B[39m\u001B[38;5;124;03m\"\"\"Pass through file objects and context-manage path-likes.\"\"\"\u001B[39;00m\n\u001B[0;32m--> 506\u001B[0m     fh, opened \u001B[38;5;241m=\u001B[39m \u001B[43mto_filehandle\u001B[49m\u001B[43m(\u001B[49m\u001B[43mpath_or_file\u001B[49m\u001B[43m,\u001B[49m\u001B[43m \u001B[49m\u001B[43mmode\u001B[49m\u001B[43m,\u001B[49m\u001B[43m \u001B[49m\u001B[38;5;28;43;01mTrue\u001B[39;49;00m\u001B[43m,\u001B[49m\u001B[43m \u001B[49m\u001B[43mencoding\u001B[49m\u001B[43m)\u001B[49m\n\u001B[1;32m    507\u001B[0m     \u001B[38;5;28;01mreturn\u001B[39;00m fh \u001B[38;5;28;01mif\u001B[39;00m opened \u001B[38;5;28;01melse\u001B[39;00m contextlib\u001B[38;5;241m.\u001B[39mnullcontext(fh)\n",
      "File \u001B[0;32m~/brainvenv/lib/python3.8/site-packages/matplotlib/cbook/__init__.py:492\u001B[0m, in \u001B[0;36mto_filehandle\u001B[0;34m(fname, flag, return_opened, encoding)\u001B[0m\n\u001B[1;32m    490\u001B[0m         fh \u001B[38;5;241m=\u001B[39m bz2\u001B[38;5;241m.\u001B[39mBZ2File(fname, flag)\n\u001B[1;32m    491\u001B[0m     \u001B[38;5;28;01melse\u001B[39;00m:\n\u001B[0;32m--> 492\u001B[0m         fh \u001B[38;5;241m=\u001B[39m \u001B[38;5;28;43mopen\u001B[39;49m\u001B[43m(\u001B[49m\u001B[43mfname\u001B[49m\u001B[43m,\u001B[49m\u001B[43m \u001B[49m\u001B[43mflag\u001B[49m\u001B[43m,\u001B[49m\u001B[43m \u001B[49m\u001B[43mencoding\u001B[49m\u001B[38;5;241;43m=\u001B[39;49m\u001B[43mencoding\u001B[49m\u001B[43m)\u001B[49m\n\u001B[1;32m    493\u001B[0m     opened \u001B[38;5;241m=\u001B[39m \u001B[38;5;28;01mTrue\u001B[39;00m\n\u001B[1;32m    494\u001B[0m \u001B[38;5;28;01melif\u001B[39;00m \u001B[38;5;28mhasattr\u001B[39m(fname, \u001B[38;5;124m'\u001B[39m\u001B[38;5;124mseek\u001B[39m\u001B[38;5;124m'\u001B[39m):\n",
      "\u001B[0;31mFileNotFoundError\u001B[0m: [Errno 2] No such file or directory: '/home/trevor/boolean_network_data/plots_and_misc_material/cum_mutation_survival.svg'"
     ]
    }
   ],
   "source": [
    "fig, axs = plt.subplots(figsize=(3,3))\n",
    "noise_death_prob = 1 - cum_noise_surv_prob\n",
    "no_noise_death_prob = 1 - cum_nn_surv_prob\n",
    "axs.plot(rounds, noise_death_prob, linestyle=\"--\", marker=\"o\", color=\"C2\")\n",
    "axs.plot(rounds, no_noise_death_prob, linestyle=\"--\", marker=\"o\", color=\"C3\")\n",
    "axs.set_xlabel(\"Number of Sequential Mutations\")\n",
    "axs.set_ylabel(\"Death Probability\")\n",
    "axs.set_title(\"Sequential Truth Table Mutations\")\n",
    "axs.set_xlim([0, rounds_to_test])\n",
    "axs.set_ylim([0, np.max(np.concatenate([noise_death_prob, no_noise_death_prob]))])"
   ],
   "metadata": {
    "collapsed": false
   }
  },
  {
   "cell_type": "code",
   "execution_count": 147,
   "outputs": [],
   "source": [],
   "metadata": {
    "collapsed": false
   }
  }
 ],
 "metadata": {
  "kernelspec": {
   "display_name": "Python 3",
   "language": "python",
   "name": "python3"
  },
  "language_info": {
   "codemirror_mode": {
    "name": "ipython",
    "version": 2
   },
   "file_extension": ".py",
   "mimetype": "text/x-python",
   "name": "python",
   "nbconvert_exporter": "python",
   "pygments_lexer": "ipython2",
   "version": "2.7.6"
  }
 },
 "nbformat": 4,
 "nbformat_minor": 0
}
