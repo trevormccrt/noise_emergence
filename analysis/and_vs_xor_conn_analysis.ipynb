{
 "cells": [
  {
   "cell_type": "code",
   "execution_count": 1,
   "outputs": [],
   "source": [
    "import glob\n",
    "import matplotlib.pyplot as plt\n",
    "from matplotlib.colors import LogNorm\n",
    "import numpy as np\n",
    "import os"
   ],
   "metadata": {
    "collapsed": false
   }
  },
  {
   "cell_type": "code",
   "execution_count": 2,
   "outputs": [],
   "source": [
    "plt_save_dir = \"/home/trevor/boolean_network_data/plots_and_misc_material\""
   ],
   "metadata": {
    "collapsed": false
   }
  },
  {
   "cell_type": "code",
   "execution_count": 3,
   "outputs": [],
   "source": [
    "and_data_paths = [\"boolean_network_data/cpu_and_evolution_results/2023-02-16-16-14-45\", \"boolean_network_data/cpu_and_evolution_results/2023-02-16-16-14-47\", \"boolean_network_data/cpu_and_evolution_results/2023-02-16-16-14-51\"]\n",
    "xor_data_paths = [\"boolean_network_data/cpu_xor_evolution_results/2023-02-16-16-20-12\", \"boolean_network_data/cpu_xor_evolution_results/2023-02-16-16-17-24\", \"boolean_network_data/cpu_xor_evolution_results/2023-02-16-16-14-56\", \"boolean_network_data/cpu_xor_evolution_results/2023-02-16-16-14-55\", \"boolean_network_data/cpu_xor_evolution_results/2023-02-16-16-14-53\"]"
   ],
   "metadata": {
    "collapsed": false
   }
  },
  {
   "cell_type": "code",
   "execution_count": 4,
   "outputs": [],
   "source": [
    "data_paths = and_data_paths\n",
    "all_N = []\n",
    "all_max_k = []\n",
    "all_exp_errors = []\n",
    "orgs = []\n",
    "for path in data_paths:\n",
    "    for file in glob.glob(os.path.join(os.getenv(\"HOME\"), path, \"*.npz\")):\n",
    "        data = np.load(file)\n",
    "        all_N.append(data[\"N\"])\n",
    "        all_max_k.append(data[\"max_k\"])\n",
    "        all_exp_errors.append(data[\"errors\"])\n",
    "        orgs.append((data[\"functions\"], data[\"connectivity\"], data[\"used_connectivity\"]))\n"
   ],
   "metadata": {
    "collapsed": false
   }
  },
  {
   "cell_type": "code",
   "execution_count": 5,
   "outputs": [],
   "source": [
    "%matplotlib tk\n",
    "fig, axs = plt.subplots(figsize=(4,4))\n",
    "for N, k, err in zip(all_N, all_max_k, all_exp_errors):\n",
    "    axs.scatter([N], [err], color=\"C{}\".format(k), label=\"k={}\".format(k))\n",
    "axs.plot([np.min(all_N), np.max(all_N)], [0.01, 0.01], color=\"black\", linestyle=\"--\")\n",
    "#axs.set_ylim([np.min(all_exp_errors), 0.2])\n",
    "axs.set_yscale(\"log\")\n",
    "axs.legend(*[*zip(*{l:h for h,l in zip(*axs.get_legend_handles_labels())}.items())][::-1])\n",
    "axs.set_xlabel(\"N\")\n",
    "axs.set_ylabel(\"Logical Error Rate\")\n",
    "axs.set_title(\"AND\")\n",
    "fig.tight_layout()\n",
    "#plt.savefig(os.path.join(plt_save_dir, \"xor_nk.png\"), dpi=400)\n",
    "\n"
   ],
   "metadata": {
    "collapsed": false
   }
  },
  {
   "cell_type": "code",
   "execution_count": 6,
   "outputs": [],
   "source": [
    "min_N = np.min(all_N)\n",
    "min_max_k = np.min(all_max_k)\n",
    "N_K_grid = np.ones((np.max(all_N) - min_N + 1, np.max(all_max_k) - min_max_k + 1))\n",
    "for N, k, err in zip(all_N, all_max_k, all_exp_errors):\n",
    "    this_idx_N = N - min_N\n",
    "    this_idx_k = k - min_max_k\n",
    "    if err < N_K_grid[this_idx_N, this_idx_k]:\n",
    "        N_K_grid[this_idx_N, this_idx_k] = err\n"
   ],
   "metadata": {
    "collapsed": false
   }
  },
  {
   "cell_type": "code",
   "execution_count": 37,
   "outputs": [
    {
     "data": {
      "text/plain": "<matplotlib.colorbar.Colorbar at 0x7f8be63107c0>"
     },
     "execution_count": 37,
     "metadata": {},
     "output_type": "execute_result"
    },
    {
     "data": {
      "text/plain": "<Figure size 640x480 with 2 Axes>",
      "image/png": "[encoded data removed]"
     },
     "metadata": {},
     "output_type": "display_data"
    }
   ],
   "source": [
    "fig, axs = plt.subplots()\n",
    "im = axs.imshow(N_K_grid, extent=(min_max_k, np.max(all_max_k), min_N, np.max(all_N)), origin=\"lower\", aspect=\"auto\", norm=LogNorm())\n",
    "plt.colorbar(im)\n"
   ],
   "metadata": {
    "collapsed": false
   }
  },
  {
   "cell_type": "code",
   "execution_count": null,
   "outputs": [],
   "source": [],
   "metadata": {
    "collapsed": false
   }
  }
 ],
 "metadata": {
  "kernelspec": {
   "display_name": "Python 3",
   "language": "python",
   "name": "python3"
  },
  "language_info": {
   "codemirror_mode": {
    "name": "ipython",
    "version": 2
   },
   "file_extension": ".py",
   "mimetype": "text/x-python",
   "name": "python",
   "nbconvert_exporter": "python",
   "pygments_lexer": "ipython2",
   "version": "2.7.6"
  }
 },
 "nbformat": 4,
 "nbformat_minor": 0
}
