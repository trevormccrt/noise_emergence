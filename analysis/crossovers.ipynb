{
 "cells": [
  {
   "cell_type": "code",
   "execution_count": 11,
   "metadata": {
    "collapsed": true
   },
   "outputs": [],
   "source": [
    "import glob\n",
    "import matplotlib.pyplot as plt\n",
    "import numpy as np\n",
    "import os"
   ]
  },
  {
   "cell_type": "code",
   "execution_count": 12,
   "outputs": [],
   "source": [
    "crossover_data_path = \"boolean_network_data/and_evolution_results/crossover_2023-03-01-10-12-47/checkpoint_data\"\n",
    "random_data_path = \"boolean_network_data/and_evolution_results/no_crossover_2023-03-22-17-57-15/checkpoint_data\"\n",
    "swap_data_path = \"boolean_network_data/and_evolution_results/2023-03-13-21-10-14/checkpoint_data\"\n"
   ],
   "metadata": {
    "collapsed": false
   }
  },
  {
   "cell_type": "code",
   "execution_count": 13,
   "outputs": [
    {
     "name": "stderr",
     "output_type": "stream",
     "text": [
      "/home/trevor/brainvenv/lib/python3.8/site-packages/numpy/lib/function_base.py:4527: RuntimeWarning: invalid value encountered in subtract\n",
      "  diff_b_a = subtract(b, a)\n"
     ]
    }
   ],
   "source": [
    "def load_loss(path):\n",
    "    timestamps = []\n",
    "    losses = []\n",
    "    for file in glob.glob(os.path.join(os.getenv(\"DATA_DIR\"), path, \"*.npz\")):\n",
    "        data = np.load(file)\n",
    "        timestamps.append(data[\"timestamp\"])\n",
    "        losses.append(data[\"errors\"])\n",
    "    timestamps, losses = zip(*sorted(zip(timestamps, losses)))\n",
    "    return timestamps, losses\n",
    "\n",
    "\n",
    "cross_timestamps, cross_losses = load_loss(crossover_data_path)\n",
    "rwalk_timestamps, rwalk_losses = load_loss(random_data_path)\n",
    "swap_timestamps, swap_losses = load_loss(swap_data_path)\n",
    "\n",
    "cross_bands = [np.percentile(x, [25, 75]) for x in cross_losses]\n",
    "cross_median = [np.median(x) for x in cross_losses]\n",
    "\n",
    "rwalk_bands = [np.percentile(x, [25, 75]) for x in rwalk_losses]\n",
    "rwalk_median = [np.median(x) for x in rwalk_losses]\n",
    "\n",
    "swap_bands = [np.percentile(x, [25, 75]) for x in swap_losses]\n",
    "swap_median = [np.median(x) for x in swap_losses]"
   ],
   "metadata": {
    "collapsed": false
   }
  },
  {
   "cell_type": "code",
   "execution_count": null,
   "outputs": [],
   "source": [
    "%matplotlib tk\n",
    "fig, axs = plt.subplots()\n",
    "axs.plot(swap_timestamps, swap_median, color=\"C0\", label=\"Rectangular Crossover\")\n",
    "axs.fill_between(swap_timestamps, [x[0] for x in swap_bands], [x[1] for x in swap_bands], alpha=0.1, color=\"C0\")\n",
    "\n",
    "axs.plot(cross_timestamps, cross_median, color=\"C1\", label=\"Graph Crossover\")\n",
    "axs.fill_between(cross_timestamps, [x[0] for x in cross_bands], [x[1] for x in cross_bands], alpha=0.1, color=\"C1\")\n",
    "\n",
    "axs.plot(rwalk_timestamps, rwalk_median, color=\"C2\", label=\"No Crossover\")\n",
    "axs.fill_between(rwalk_timestamps, [x[0] for x in rwalk_bands], [x[1] for x in rwalk_bands], alpha=0.1, color=\"C2\")\n",
    "axs.set_yscale(\"log\")\n",
    "axs.set_xscale(\"log\")\n",
    "\n",
    "axs.set_ylabel(\"Logical Error Rate\")\n",
    "axs.set_xlabel(\"Number of Generations\")\n",
    "axs.legend()\n"
   ],
   "metadata": {
    "collapsed": false,
    "pycharm": {
     "is_executing": true
    }
   }
  },
  {
   "cell_type": "code",
   "execution_count": null,
   "outputs": [],
   "source": [],
   "metadata": {
    "collapsed": false
   }
  }
 ],
 "metadata": {
  "kernelspec": {
   "display_name": "Python 3",
   "language": "python",
   "name": "python3"
  },
  "language_info": {
   "codemirror_mode": {
    "name": "ipython",
    "version": 2
   },
   "file_extension": ".py",
   "mimetype": "text/x-python",
   "name": "python",
   "nbconvert_exporter": "python",
   "pygments_lexer": "ipython2",
   "version": "2.7.6"
  }
 },
 "nbformat": 4,
 "nbformat_minor": 0
}
